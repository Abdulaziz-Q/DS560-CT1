{
 "cells": [
  {
   "cell_type": "markdown",
   "metadata": {},
   "source": [
    "# Critical Thinking 1 \n",
    "\n",
    "## Data Processing\n",
    "\n",
    "<br>\n",
    "Course Code: DS560 <br>\n",
    "Course Name: Advanced Data Mining <br>\n",
    "CRN: 24539\n",
    "Dr. Mohammad Abdelrahman\n",
    "\n",
    "Student ID: G200007615 <br>\n",
    "Student Name: Abdulaziz Alqumayzi<br>\n",
    "Date: 07/02/2021\n",
    "\n",
    "#### Requirements \n",
    "- Colab or Jupyter notebook to run the code.\n",
    "- Pandas package.\n",
    "\n",
    "## Table of contents:\n",
    "- [Task-2](#task2)\n",
    "- [Task-3](#task3)\n",
    "- [Task-4](#task4)\n",
    "- [Task-5](#task5)\n",
    "- [References](#ref)"
   ]
  },
  {
   "cell_type": "code",
   "execution_count": 1,
   "metadata": {},
   "outputs": [],
   "source": [
    "# import pandas to complete our Data Processing\n",
    "import pandas as pd  "
   ]
  },
  {
   "cell_type": "markdown",
   "metadata": {},
   "source": [
    "<a id='task2'></a>\n",
    "#### Task-2: \n",
    "Read the data from the  employee_data.csv file and extract the employee first name, employee last name, department name, and number of years of employment from the file."
   ]
  },
  {
   "cell_type": "code",
   "execution_count": 2,
   "metadata": {},
   "outputs": [
    {
     "data": {
      "text/html": [
       "<div>\n",
       "<style scoped>\n",
       "    .dataframe tbody tr th:only-of-type {\n",
       "        vertical-align: middle;\n",
       "    }\n",
       "\n",
       "    .dataframe tbody tr th {\n",
       "        vertical-align: top;\n",
       "    }\n",
       "\n",
       "    .dataframe thead th {\n",
       "        text-align: right;\n",
       "    }\n",
       "</style>\n",
       "<table border=\"1\" class=\"dataframe\">\n",
       "  <thead>\n",
       "    <tr style=\"text-align: right;\">\n",
       "      <th></th>\n",
       "      <th>first_name</th>\n",
       "      <th>last_name</th>\n",
       "      <th>year</th>\n",
       "      <th>department</th>\n",
       "    </tr>\n",
       "  </thead>\n",
       "  <tbody>\n",
       "    <tr>\n",
       "      <th>0</th>\n",
       "      <td>Joan</td>\n",
       "      <td>Hamilton-Huber</td>\n",
       "      <td>2</td>\n",
       "      <td>HR</td>\n",
       "    </tr>\n",
       "    <tr>\n",
       "      <th>1</th>\n",
       "      <td>Nathan</td>\n",
       "      <td>Brigmon</td>\n",
       "      <td>5</td>\n",
       "      <td>Austin Code Department</td>\n",
       "    </tr>\n",
       "    <tr>\n",
       "      <th>2</th>\n",
       "      <td>Shawn</td>\n",
       "      <td>Lincoln</td>\n",
       "      <td>8</td>\n",
       "      <td>NaN</td>\n",
       "    </tr>\n",
       "    <tr>\n",
       "      <th>3</th>\n",
       "      <td>Chris</td>\n",
       "      <td>Hernandez</td>\n",
       "      <td>NaN</td>\n",
       "      <td>Austin Convention Center</td>\n",
       "    </tr>\n",
       "    <tr>\n",
       "      <th>4</th>\n",
       "      <td>NaN</td>\n",
       "      <td>NaN</td>\n",
       "      <td>7</td>\n",
       "      <td>Austin Energy</td>\n",
       "    </tr>\n",
       "    <tr>\n",
       "      <th>...</th>\n",
       "      <td>...</td>\n",
       "      <td>...</td>\n",
       "      <td>...</td>\n",
       "      <td>...</td>\n",
       "    </tr>\n",
       "    <tr>\n",
       "      <th>138</th>\n",
       "      <td>Thomas</td>\n",
       "      <td>Montgomery</td>\n",
       "      <td>8</td>\n",
       "      <td>Austin Resource Recovery</td>\n",
       "    </tr>\n",
       "    <tr>\n",
       "      <th>139</th>\n",
       "      <td>Thomas</td>\n",
       "      <td>Montgomery</td>\n",
       "      <td>NaN</td>\n",
       "      <td>HR</td>\n",
       "    </tr>\n",
       "    <tr>\n",
       "      <th>140</th>\n",
       "      <td>Angel</td>\n",
       "      <td>Flores</td>\n",
       "      <td>NaN</td>\n",
       "      <td>IT</td>\n",
       "    </tr>\n",
       "    <tr>\n",
       "      <th>141</th>\n",
       "      <td>Tyler</td>\n",
       "      <td>?</td>\n",
       "      <td>9</td>\n",
       "      <td>Office of the City Auditor</td>\n",
       "    </tr>\n",
       "    <tr>\n",
       "      <th>142</th>\n",
       "      <td>Diana</td>\n",
       "      <td>Martin</td>\n",
       "      <td>6</td>\n",
       "      <td>HR</td>\n",
       "    </tr>\n",
       "  </tbody>\n",
       "</table>\n",
       "<p>143 rows × 4 columns</p>\n",
       "</div>"
      ],
      "text/plain": [
       "    first_name       last_name year                 department \n",
       "0         Joan  Hamilton-Huber    2                          HR\n",
       "1       Nathan         Brigmon    5      Austin Code Department\n",
       "2        Shawn         Lincoln    8                         NaN\n",
       "3        Chris       Hernandez  NaN    Austin Convention Center\n",
       "4          NaN             NaN    7               Austin Energy\n",
       "..         ...             ...  ...                         ...\n",
       "138     Thomas      Montgomery    8    Austin Resource Recovery\n",
       "139     Thomas      Montgomery  NaN                          HR\n",
       "140      Angel          Flores  NaN                         IT \n",
       "141      Tyler               ?    9  Office of the City Auditor\n",
       "142      Diana          Martin    6                          HR\n",
       "\n",
       "[143 rows x 4 columns]"
      ]
     },
     "execution_count": 2,
     "metadata": {},
     "output_type": "execute_result"
    }
   ],
   "source": [
    "# reading and extracting the csv file\n",
    "df = pd.read_csv('employee_data.csv')\n",
    "df"
   ]
  },
  {
   "cell_type": "markdown",
   "metadata": {},
   "source": [
    "<a id='task3'></a>\n",
    "#### Task-3: \n",
    "Convert the extracted data to a pandas dataframe, called “Employee”, whose columns are “FirstName”, “LastName”, “Year” and “Department”."
   ]
  },
  {
   "cell_type": "code",
   "execution_count": 3,
   "metadata": {},
   "outputs": [
    {
     "data": {
      "text/plain": [
       "pandas.core.frame.DataFrame"
      ]
     },
     "execution_count": 3,
     "metadata": {},
     "output_type": "execute_result"
    }
   ],
   "source": [
    "# creating a copy from df into Employee dataframe\n",
    "Employee = df.copy()\n",
    "# Employee already a dataframe so no need to convert it \n",
    "type(Employee)"
   ]
  },
  {
   "cell_type": "code",
   "execution_count": 4,
   "metadata": {},
   "outputs": [
    {
     "data": {
      "text/html": [
       "<div>\n",
       "<style scoped>\n",
       "    .dataframe tbody tr th:only-of-type {\n",
       "        vertical-align: middle;\n",
       "    }\n",
       "\n",
       "    .dataframe tbody tr th {\n",
       "        vertical-align: top;\n",
       "    }\n",
       "\n",
       "    .dataframe thead th {\n",
       "        text-align: right;\n",
       "    }\n",
       "</style>\n",
       "<table border=\"1\" class=\"dataframe\">\n",
       "  <thead>\n",
       "    <tr style=\"text-align: right;\">\n",
       "      <th></th>\n",
       "      <th>FirstName</th>\n",
       "      <th>LastName</th>\n",
       "      <th>Year</th>\n",
       "      <th>Department</th>\n",
       "    </tr>\n",
       "  </thead>\n",
       "  <tbody>\n",
       "    <tr>\n",
       "      <th>0</th>\n",
       "      <td>Joan</td>\n",
       "      <td>Hamilton-Huber</td>\n",
       "      <td>2</td>\n",
       "      <td>HR</td>\n",
       "    </tr>\n",
       "    <tr>\n",
       "      <th>1</th>\n",
       "      <td>Nathan</td>\n",
       "      <td>Brigmon</td>\n",
       "      <td>5</td>\n",
       "      <td>Austin Code Department</td>\n",
       "    </tr>\n",
       "    <tr>\n",
       "      <th>2</th>\n",
       "      <td>Shawn</td>\n",
       "      <td>Lincoln</td>\n",
       "      <td>8</td>\n",
       "      <td>NaN</td>\n",
       "    </tr>\n",
       "    <tr>\n",
       "      <th>3</th>\n",
       "      <td>Chris</td>\n",
       "      <td>Hernandez</td>\n",
       "      <td>NaN</td>\n",
       "      <td>Austin Convention Center</td>\n",
       "    </tr>\n",
       "    <tr>\n",
       "      <th>4</th>\n",
       "      <td>NaN</td>\n",
       "      <td>NaN</td>\n",
       "      <td>7</td>\n",
       "      <td>Austin Energy</td>\n",
       "    </tr>\n",
       "    <tr>\n",
       "      <th>...</th>\n",
       "      <td>...</td>\n",
       "      <td>...</td>\n",
       "      <td>...</td>\n",
       "      <td>...</td>\n",
       "    </tr>\n",
       "    <tr>\n",
       "      <th>138</th>\n",
       "      <td>Thomas</td>\n",
       "      <td>Montgomery</td>\n",
       "      <td>8</td>\n",
       "      <td>Austin Resource Recovery</td>\n",
       "    </tr>\n",
       "    <tr>\n",
       "      <th>139</th>\n",
       "      <td>Thomas</td>\n",
       "      <td>Montgomery</td>\n",
       "      <td>NaN</td>\n",
       "      <td>HR</td>\n",
       "    </tr>\n",
       "    <tr>\n",
       "      <th>140</th>\n",
       "      <td>Angel</td>\n",
       "      <td>Flores</td>\n",
       "      <td>NaN</td>\n",
       "      <td>IT</td>\n",
       "    </tr>\n",
       "    <tr>\n",
       "      <th>141</th>\n",
       "      <td>Tyler</td>\n",
       "      <td>?</td>\n",
       "      <td>9</td>\n",
       "      <td>Office of the City Auditor</td>\n",
       "    </tr>\n",
       "    <tr>\n",
       "      <th>142</th>\n",
       "      <td>Diana</td>\n",
       "      <td>Martin</td>\n",
       "      <td>6</td>\n",
       "      <td>HR</td>\n",
       "    </tr>\n",
       "  </tbody>\n",
       "</table>\n",
       "<p>143 rows × 4 columns</p>\n",
       "</div>"
      ],
      "text/plain": [
       "    FirstName        LastName Year                  Department\n",
       "0        Joan  Hamilton-Huber    2                          HR\n",
       "1      Nathan         Brigmon    5      Austin Code Department\n",
       "2       Shawn         Lincoln    8                         NaN\n",
       "3       Chris       Hernandez  NaN    Austin Convention Center\n",
       "4         NaN             NaN    7               Austin Energy\n",
       "..        ...             ...  ...                         ...\n",
       "138    Thomas      Montgomery    8    Austin Resource Recovery\n",
       "139    Thomas      Montgomery  NaN                          HR\n",
       "140     Angel          Flores  NaN                         IT \n",
       "141     Tyler               ?    9  Office of the City Auditor\n",
       "142     Diana          Martin    6                          HR\n",
       "\n",
       "[143 rows x 4 columns]"
      ]
     },
     "execution_count": 4,
     "metadata": {},
     "output_type": "execute_result"
    }
   ],
   "source": [
    "# renaming columns in the shortest ways\n",
    "# note: all columns must be changed or assigned to it using this way or you will get an error\n",
    "Employee.columns = ['FirstName', 'LastName', 'Year' ,'Department']\n",
    "Employee"
   ]
  },
  {
   "cell_type": "markdown",
   "metadata": {},
   "source": [
    "<a id='task4'></a>\n",
    "#### Task-4: \n",
    "Find the number of missing values in each column, then replace missing values in any column with the most frequent value in this column (Note: “?” is considered as a missing value)."
   ]
  },
  {
   "cell_type": "code",
   "execution_count": 5,
   "metadata": {},
   "outputs": [
    {
     "data": {
      "text/plain": [
       "FirstName     13\n",
       "LastName      14\n",
       "Year          22\n",
       "Department    12\n",
       "dtype: int64"
      ]
     },
     "execution_count": 5,
     "metadata": {},
     "output_type": "execute_result"
    }
   ],
   "source": [
    "# checking null values in each column\n",
    "Employee.isnull().sum()"
   ]
  },
  {
   "cell_type": "markdown",
   "metadata": {},
   "source": [
    "We have 13 missing values in the FirstName column, 14 in LastName, 22 in Year, and 12 in Department. <br>\n",
    "Next, we will check if there are error typing and wrong entered values. "
   ]
  },
  {
   "cell_type": "code",
   "execution_count": 6,
   "metadata": {},
   "outputs": [
    {
     "data": {
      "text/plain": [
       "array(['Joan', 'Nathan', 'Shawn', 'Chris', nan, 'Christine', 'Gus', 'Ron',\n",
       "       'Paige', 'Stefan', 'Joe', 'Bryce', 'Sarah', 'Gabriel', 'Patricia',\n",
       "       'Patti', 'Robert', 'Korrie', 'Grace', 'Kathryn', 'Ashlee',\n",
       "       'Ashley', 'Sara', 'Zachary', 'Julia', 'Melissa', 'David', 'Lynn',\n",
       "       'Patrick', '?', 'Tyler', 'Perry', 'Daniel', 'Richard', 'Yanira',\n",
       "       'John', 'Gavin', 'Tomas', 'Jim', 'Jonathan', 'Josh', 'Katy',\n",
       "       'Jamila', 'Kimberly', 'Farah', 'Liz', 'Zach', 'Kristi', 'Jeff',\n",
       "       'Micheal', 'Sam', 'Bryan', 'Megan', 'Blender', 'Jesse', 'Gail',\n",
       "       'Thomas', 'Angel', 'Diana ', 'First Name', 'Brian', 'Diana'],\n",
       "      dtype=object)"
      ]
     },
     "execution_count": 6,
     "metadata": {},
     "output_type": "execute_result"
    }
   ],
   "source": [
    "# check all values in the 'FirstName' column\n",
    "Employee['FirstName'].unique()"
   ]
  },
  {
   "cell_type": "markdown",
   "metadata": {},
   "source": [
    "In `FirstName` column, there are two errors: \n",
    "- ?\n",
    "- First Name"
   ]
  },
  {
   "cell_type": "code",
   "execution_count": 7,
   "metadata": {},
   "outputs": [
    {
     "data": {
      "text/html": [
       "<div>\n",
       "<style scoped>\n",
       "    .dataframe tbody tr th:only-of-type {\n",
       "        vertical-align: middle;\n",
       "    }\n",
       "\n",
       "    .dataframe tbody tr th {\n",
       "        vertical-align: top;\n",
       "    }\n",
       "\n",
       "    .dataframe thead th {\n",
       "        text-align: right;\n",
       "    }\n",
       "</style>\n",
       "<table border=\"1\" class=\"dataframe\">\n",
       "  <thead>\n",
       "    <tr style=\"text-align: right;\">\n",
       "      <th></th>\n",
       "      <th>FirstName</th>\n",
       "      <th>LastName</th>\n",
       "      <th>Year</th>\n",
       "      <th>Department</th>\n",
       "    </tr>\n",
       "  </thead>\n",
       "  <tbody>\n",
       "    <tr>\n",
       "      <th>33</th>\n",
       "      <td>?</td>\n",
       "      <td>NaN</td>\n",
       "      <td>NaN</td>\n",
       "      <td>Equity Office</td>\n",
       "    </tr>\n",
       "    <tr>\n",
       "      <th>76</th>\n",
       "      <td>?</td>\n",
       "      <td>Lambert</td>\n",
       "      <td>2</td>\n",
       "      <td>Austin Energy</td>\n",
       "    </tr>\n",
       "    <tr>\n",
       "      <th>111</th>\n",
       "      <td>?</td>\n",
       "      <td>Walker</td>\n",
       "      <td>1</td>\n",
       "      <td>LAW Department</td>\n",
       "    </tr>\n",
       "  </tbody>\n",
       "</table>\n",
       "</div>"
      ],
      "text/plain": [
       "    FirstName LastName Year      Department\n",
       "33          ?      NaN  NaN   Equity Office\n",
       "76          ?  Lambert    2   Austin Energy\n",
       "111         ?   Walker    1  LAW Department"
      ]
     },
     "execution_count": 7,
     "metadata": {},
     "output_type": "execute_result"
    }
   ],
   "source": [
    "# checking the ? value by filtering the dataframe\n",
    "Employee[Employee['FirstName']== '?']"
   ]
  },
  {
   "cell_type": "markdown",
   "metadata": {},
   "source": [
    "In index 33, most of the data wrong so it will be removed later  "
   ]
  },
  {
   "cell_type": "code",
   "execution_count": 8,
   "metadata": {},
   "outputs": [
    {
     "data": {
      "text/html": [
       "<div>\n",
       "<style scoped>\n",
       "    .dataframe tbody tr th:only-of-type {\n",
       "        vertical-align: middle;\n",
       "    }\n",
       "\n",
       "    .dataframe tbody tr th {\n",
       "        vertical-align: top;\n",
       "    }\n",
       "\n",
       "    .dataframe thead th {\n",
       "        text-align: right;\n",
       "    }\n",
       "</style>\n",
       "<table border=\"1\" class=\"dataframe\">\n",
       "  <thead>\n",
       "    <tr style=\"text-align: right;\">\n",
       "      <th></th>\n",
       "      <th>FirstName</th>\n",
       "      <th>LastName</th>\n",
       "      <th>Year</th>\n",
       "      <th>Department</th>\n",
       "    </tr>\n",
       "  </thead>\n",
       "  <tbody>\n",
       "    <tr>\n",
       "      <th>71</th>\n",
       "      <td>First Name</td>\n",
       "      <td>Last Name</td>\n",
       "      <td>NaN</td>\n",
       "      <td>Department</td>\n",
       "    </tr>\n",
       "  </tbody>\n",
       "</table>\n",
       "</div>"
      ],
      "text/plain": [
       "     FirstName   LastName Year  Department\n",
       "71  First Name  Last Name  NaN  Department"
      ]
     },
     "execution_count": 8,
     "metadata": {},
     "output_type": "execute_result"
    }
   ],
   "source": [
    "# checking the 'First Name' value by filtering the dataframe\n",
    "Employee[Employee['FirstName'] == 'First Name']"
   ]
  },
  {
   "cell_type": "markdown",
   "metadata": {},
   "source": [
    "This row has no meaning, maybe came from a system error"
   ]
  },
  {
   "cell_type": "code",
   "execution_count": 9,
   "metadata": {},
   "outputs": [
    {
     "data": {
      "text/plain": [
       "array(['Hamilton-Huber', 'Brigmon', 'Lincoln', 'Hernandez', nan, 'Thies',\n",
       "       'Delgado', 'MacKay', 'Warner', 'Wray', 'Faulk', 'Benton', 'Cronin',\n",
       "       'Gonzalez', 'Genty-Andrade', 'Edwards', 'Bizendine', 'Johnson',\n",
       "       'Kretchmer', 'Darnall', 'Harris', 'Parsons', 'Behunek', 'Ashburn',\n",
       "       'Robbins', 'Alvarado', 'Andersen', 'Cohee', 'Murphy', 'Higdon',\n",
       "       'Perez', 'Honker', 'Bailey', 'Oliveras', 'Walker', 'Lambert',\n",
       "       'Salinas', 'Warren', 'Tomko', 'Rudow', 'Zamesnick', 'Siller',\n",
       "       'Olivares', 'Muscadin', 'Hargrove', 'Baumer', 'Samilpa', 'Hayes',\n",
       "       'Nixon', 'Strycharske', 'Tedford', 'Thompson', 'Bell', 'Hill',\n",
       "       'Rodriguez', 'Speirs', 'Ray', 'Clayton', 'Montgomery', 'Flores',\n",
       "       'Myers', 'Martin', 'Last Name', '?', 'Long'], dtype=object)"
      ]
     },
     "execution_count": 9,
     "metadata": {},
     "output_type": "execute_result"
    }
   ],
   "source": [
    "# check all values in the 'LirstName' column\n",
    "Employee['LastName'].unique()"
   ]
  },
  {
   "cell_type": "markdown",
   "metadata": {},
   "source": [
    "In LastName column, there are two errors: \n",
    "- ?\n",
    "- Last Name"
   ]
  },
  {
   "cell_type": "code",
   "execution_count": 10,
   "metadata": {},
   "outputs": [
    {
     "data": {
      "text/html": [
       "<div>\n",
       "<style scoped>\n",
       "    .dataframe tbody tr th:only-of-type {\n",
       "        vertical-align: middle;\n",
       "    }\n",
       "\n",
       "    .dataframe tbody tr th {\n",
       "        vertical-align: top;\n",
       "    }\n",
       "\n",
       "    .dataframe thead th {\n",
       "        text-align: right;\n",
       "    }\n",
       "</style>\n",
       "<table border=\"1\" class=\"dataframe\">\n",
       "  <thead>\n",
       "    <tr style=\"text-align: right;\">\n",
       "      <th></th>\n",
       "      <th>FirstName</th>\n",
       "      <th>LastName</th>\n",
       "      <th>Year</th>\n",
       "      <th>Department</th>\n",
       "    </tr>\n",
       "  </thead>\n",
       "  <tbody>\n",
       "    <tr>\n",
       "      <th>86</th>\n",
       "      <td>Gabriel</td>\n",
       "      <td>?</td>\n",
       "      <td>2</td>\n",
       "      <td>Austin Resource Recovery</td>\n",
       "    </tr>\n",
       "    <tr>\n",
       "      <th>121</th>\n",
       "      <td>Liz</td>\n",
       "      <td>?</td>\n",
       "      <td>4</td>\n",
       "      <td>Office of Real Estate Services</td>\n",
       "    </tr>\n",
       "    <tr>\n",
       "      <th>141</th>\n",
       "      <td>Tyler</td>\n",
       "      <td>?</td>\n",
       "      <td>9</td>\n",
       "      <td>Office of the City Auditor</td>\n",
       "    </tr>\n",
       "  </tbody>\n",
       "</table>\n",
       "</div>"
      ],
      "text/plain": [
       "    FirstName LastName Year                      Department\n",
       "86    Gabriel        ?    2        Austin Resource Recovery\n",
       "121       Liz        ?    4  Office of Real Estate Services\n",
       "141     Tyler        ?    9      Office of the City Auditor"
      ]
     },
     "execution_count": 10,
     "metadata": {},
     "output_type": "execute_result"
    }
   ],
   "source": [
    "# checking the ? value by filtering the dataframe\n",
    "Employee[Employee['LastName']== '?']"
   ]
  },
  {
   "cell_type": "code",
   "execution_count": 11,
   "metadata": {},
   "outputs": [
    {
     "data": {
      "text/html": [
       "<div>\n",
       "<style scoped>\n",
       "    .dataframe tbody tr th:only-of-type {\n",
       "        vertical-align: middle;\n",
       "    }\n",
       "\n",
       "    .dataframe tbody tr th {\n",
       "        vertical-align: top;\n",
       "    }\n",
       "\n",
       "    .dataframe thead th {\n",
       "        text-align: right;\n",
       "    }\n",
       "</style>\n",
       "<table border=\"1\" class=\"dataframe\">\n",
       "  <thead>\n",
       "    <tr style=\"text-align: right;\">\n",
       "      <th></th>\n",
       "      <th>FirstName</th>\n",
       "      <th>LastName</th>\n",
       "      <th>Year</th>\n",
       "      <th>Department</th>\n",
       "    </tr>\n",
       "  </thead>\n",
       "  <tbody>\n",
       "    <tr>\n",
       "      <th>71</th>\n",
       "      <td>First Name</td>\n",
       "      <td>Last Name</td>\n",
       "      <td>NaN</td>\n",
       "      <td>Department</td>\n",
       "    </tr>\n",
       "  </tbody>\n",
       "</table>\n",
       "</div>"
      ],
      "text/plain": [
       "     FirstName   LastName Year  Department\n",
       "71  First Name  Last Name  NaN  Department"
      ]
     },
     "execution_count": 11,
     "metadata": {},
     "output_type": "execute_result"
    }
   ],
   "source": [
    "# checking the 'LastName' value by filtering the dataframe\n",
    "Employee[Employee['LastName']== 'Last Name']"
   ]
  },
  {
   "cell_type": "code",
   "execution_count": 12,
   "metadata": {},
   "outputs": [
    {
     "data": {
      "text/html": [
       "<div>\n",
       "<style scoped>\n",
       "    .dataframe tbody tr th:only-of-type {\n",
       "        vertical-align: middle;\n",
       "    }\n",
       "\n",
       "    .dataframe tbody tr th {\n",
       "        vertical-align: top;\n",
       "    }\n",
       "\n",
       "    .dataframe thead th {\n",
       "        text-align: right;\n",
       "    }\n",
       "</style>\n",
       "<table border=\"1\" class=\"dataframe\">\n",
       "  <thead>\n",
       "    <tr style=\"text-align: right;\">\n",
       "      <th></th>\n",
       "      <th>FirstName</th>\n",
       "      <th>LastName</th>\n",
       "      <th>Year</th>\n",
       "      <th>Department</th>\n",
       "    </tr>\n",
       "  </thead>\n",
       "  <tbody>\n",
       "    <tr>\n",
       "      <th>0</th>\n",
       "      <td>Joan</td>\n",
       "      <td>Hamilton-Huber</td>\n",
       "      <td>2</td>\n",
       "      <td>HR</td>\n",
       "    </tr>\n",
       "    <tr>\n",
       "      <th>72</th>\n",
       "      <td>Joan</td>\n",
       "      <td>Hamilton-Huber</td>\n",
       "      <td>5</td>\n",
       "      <td>Animal Services Office</td>\n",
       "    </tr>\n",
       "  </tbody>\n",
       "</table>\n",
       "</div>"
      ],
      "text/plain": [
       "   FirstName        LastName Year              Department\n",
       "0       Joan  Hamilton-Huber    2                      HR\n",
       "72      Joan  Hamilton-Huber    5  Animal Services Office"
      ]
     },
     "execution_count": 12,
     "metadata": {},
     "output_type": "execute_result"
    }
   ],
   "source": [
    "# making sure that there is a first name and the last name is not two names \n",
    "Employee[Employee['LastName']== 'Hamilton-Huber']"
   ]
  },
  {
   "cell_type": "code",
   "execution_count": 13,
   "metadata": {},
   "outputs": [
    {
     "data": {
      "text/html": [
       "<div>\n",
       "<style scoped>\n",
       "    .dataframe tbody tr th:only-of-type {\n",
       "        vertical-align: middle;\n",
       "    }\n",
       "\n",
       "    .dataframe tbody tr th {\n",
       "        vertical-align: top;\n",
       "    }\n",
       "\n",
       "    .dataframe thead th {\n",
       "        text-align: right;\n",
       "    }\n",
       "</style>\n",
       "<table border=\"1\" class=\"dataframe\">\n",
       "  <thead>\n",
       "    <tr style=\"text-align: right;\">\n",
       "      <th></th>\n",
       "      <th>FirstName</th>\n",
       "      <th>LastName</th>\n",
       "      <th>Year</th>\n",
       "      <th>Department</th>\n",
       "    </tr>\n",
       "  </thead>\n",
       "  <tbody>\n",
       "    <tr>\n",
       "      <th>15</th>\n",
       "      <td>Patricia</td>\n",
       "      <td>Genty-Andrade</td>\n",
       "      <td>8</td>\n",
       "      <td>Austin Water Utility</td>\n",
       "    </tr>\n",
       "    <tr>\n",
       "      <th>87</th>\n",
       "      <td>Patricia</td>\n",
       "      <td>Genty-Andrade</td>\n",
       "      <td>3</td>\n",
       "      <td>HR</td>\n",
       "    </tr>\n",
       "  </tbody>\n",
       "</table>\n",
       "</div>"
      ],
      "text/plain": [
       "   FirstName       LastName Year            Department\n",
       "15  Patricia  Genty-Andrade    8  Austin Water Utility\n",
       "87  Patricia  Genty-Andrade    3                    HR"
      ]
     },
     "execution_count": 13,
     "metadata": {},
     "output_type": "execute_result"
    }
   ],
   "source": [
    "# making sure that there is a first name and the last name is not two names\n",
    "Employee[Employee['LastName']== 'Genty-Andrade']"
   ]
  },
  {
   "cell_type": "markdown",
   "metadata": {},
   "source": [
    "Again, this row will be removed later"
   ]
  },
  {
   "cell_type": "code",
   "execution_count": 14,
   "metadata": {},
   "outputs": [
    {
     "data": {
      "text/plain": [
       "array(['2', '5', '8', nan, '7', '3', '4', '9', '6', '1', '?'],\n",
       "      dtype=object)"
      ]
     },
     "execution_count": 14,
     "metadata": {},
     "output_type": "execute_result"
    }
   ],
   "source": [
    "# check all values in the 'Year' column\n",
    "Employee['Year'].unique()"
   ]
  },
  {
   "cell_type": "markdown",
   "metadata": {},
   "source": [
    "In Year column, there is one error: \n",
    "- ?"
   ]
  },
  {
   "cell_type": "code",
   "execution_count": 15,
   "metadata": {},
   "outputs": [
    {
     "data": {
      "text/html": [
       "<div>\n",
       "<style scoped>\n",
       "    .dataframe tbody tr th:only-of-type {\n",
       "        vertical-align: middle;\n",
       "    }\n",
       "\n",
       "    .dataframe tbody tr th {\n",
       "        vertical-align: top;\n",
       "    }\n",
       "\n",
       "    .dataframe thead th {\n",
       "        text-align: right;\n",
       "    }\n",
       "</style>\n",
       "<table border=\"1\" class=\"dataframe\">\n",
       "  <thead>\n",
       "    <tr style=\"text-align: right;\">\n",
       "      <th></th>\n",
       "      <th>FirstName</th>\n",
       "      <th>LastName</th>\n",
       "      <th>Year</th>\n",
       "      <th>Department</th>\n",
       "    </tr>\n",
       "  </thead>\n",
       "  <tbody>\n",
       "    <tr>\n",
       "      <th>63</th>\n",
       "      <td>John</td>\n",
       "      <td>Speirs</td>\n",
       "      <td>?</td>\n",
       "      <td>IT</td>\n",
       "    </tr>\n",
       "    <tr>\n",
       "      <th>83</th>\n",
       "      <td>Joe</td>\n",
       "      <td>Faulk</td>\n",
       "      <td>?</td>\n",
       "      <td>Austin Public Library</td>\n",
       "    </tr>\n",
       "    <tr>\n",
       "      <th>105</th>\n",
       "      <td>NaN</td>\n",
       "      <td>NaN</td>\n",
       "      <td>?</td>\n",
       "      <td>Equity Office</td>\n",
       "    </tr>\n",
       "    <tr>\n",
       "      <th>130</th>\n",
       "      <td>Bryan</td>\n",
       "      <td>Thompson</td>\n",
       "      <td>?</td>\n",
       "      <td>Public Works Department</td>\n",
       "    </tr>\n",
       "  </tbody>\n",
       "</table>\n",
       "</div>"
      ],
      "text/plain": [
       "    FirstName  LastName Year               Department\n",
       "63       John    Speirs    ?                      IT \n",
       "83        Joe     Faulk    ?    Austin Public Library\n",
       "105       NaN       NaN    ?            Equity Office\n",
       "130     Bryan  Thompson    ?  Public Works Department"
      ]
     },
     "execution_count": 15,
     "metadata": {},
     "output_type": "execute_result"
    }
   ],
   "source": [
    "# checking the ? value by filtering the dataframe\n",
    "Employee[Employee['Year']== '?']"
   ]
  },
  {
   "cell_type": "markdown",
   "metadata": {},
   "source": [
    "Index 105 to be removed later because most of the data are missing in this row"
   ]
  },
  {
   "cell_type": "code",
   "execution_count": 16,
   "metadata": {},
   "outputs": [
    {
     "data": {
      "text/plain": [
       "array(['HR', 'Austin Code Department', nan, 'Austin Convention Center',\n",
       "       'Austin Energy', 'IT ', 'Austin Fire', 'Austin Police Department',\n",
       "       'Austin Public Health', 'Austin Public Library',\n",
       "       'Austin Resource Recovery', 'Austin Water Utility',\n",
       "       'Budget Office', 'Capital Contracting Office',\n",
       "       'City Clerks Office', 'Communications & Public Information Office',\n",
       "       \"Controller's Office\", 'Corridor Program Implementation Office',\n",
       "       'Development Service Department',\n",
       "       'Downtown Austin Community Court', 'Economic Development',\n",
       "       'Emergency Medical Services', 'Equity Office', 'Fleet Services',\n",
       "       'Innovation Office', 'Intergovernmental Relations',\n",
       "       'Labor Relations', 'LAW Department', 'Municipal Court\\xa0',\n",
       "       'Municipal Court Judge',\n",
       "       'Neighborhood Housing and Community Development', 'Office of CFO',\n",
       "       'Office of Performance Management', 'Office of Police Monitor',\n",
       "       'Office of Real Estate Services', 'Office of the City Auditor',\n",
       "       'Office of the City Manager', 'Office of the Medical Director',\n",
       "       'Parks & Recreation Department', 'Planning and Zoning',\n",
       "       'Project Systems Intelligence Office (?)',\n",
       "       'Public Works Department', 'Purchasing Office',\n",
       "       'Small & Minority Business Resources',\n",
       "       'Telecom & Regulatory Affairs', 'Treasury Office',\n",
       "       'Watershed Protection',\n",
       "       'Homeland Security and Emergency Management', 'Department',\n",
       "       'Animal Services Office', 'Mayor & Council', 'Aviation Department',\n",
       "       '?', 'Building Services', 'Communications & Technology Management',\n",
       "       'Human Resources Department', 'Municipal Court',\n",
       "       'Office of Sustainability'], dtype=object)"
      ]
     },
     "execution_count": 16,
     "metadata": {},
     "output_type": "execute_result"
    }
   ],
   "source": [
    "# check all values in the 'Department' column\n",
    "Employee['Department'].unique()"
   ]
  },
  {
   "cell_type": "markdown",
   "metadata": {},
   "source": [
    "In Department column, there are four errors: \n",
    "- Project Systems Intelligence Office (?)\n",
    "- Municipal Court\\xa0\n",
    "- ?\n",
    "- Human Resources Department "
   ]
  },
  {
   "cell_type": "code",
   "execution_count": 17,
   "metadata": {},
   "outputs": [
    {
     "data": {
      "text/html": [
       "<div>\n",
       "<style scoped>\n",
       "    .dataframe tbody tr th:only-of-type {\n",
       "        vertical-align: middle;\n",
       "    }\n",
       "\n",
       "    .dataframe tbody tr th {\n",
       "        vertical-align: top;\n",
       "    }\n",
       "\n",
       "    .dataframe thead th {\n",
       "        text-align: right;\n",
       "    }\n",
       "</style>\n",
       "<table border=\"1\" class=\"dataframe\">\n",
       "  <thead>\n",
       "    <tr style=\"text-align: right;\">\n",
       "      <th></th>\n",
       "      <th>FirstName</th>\n",
       "      <th>LastName</th>\n",
       "      <th>Year</th>\n",
       "      <th>Department</th>\n",
       "    </tr>\n",
       "  </thead>\n",
       "  <tbody>\n",
       "    <tr>\n",
       "      <th>57</th>\n",
       "      <td>Gabriel</td>\n",
       "      <td>Gonzalez</td>\n",
       "      <td>6</td>\n",
       "      <td>Project Systems Intelligence Office (?)</td>\n",
       "    </tr>\n",
       "    <tr>\n",
       "      <th>129</th>\n",
       "      <td>Brian</td>\n",
       "      <td>Long</td>\n",
       "      <td>5</td>\n",
       "      <td>Project Systems Intelligence Office (?)</td>\n",
       "    </tr>\n",
       "  </tbody>\n",
       "</table>\n",
       "</div>"
      ],
      "text/plain": [
       "    FirstName  LastName Year                               Department\n",
       "57    Gabriel  Gonzalez    6  Project Systems Intelligence Office (?)\n",
       "129     Brian      Long    5  Project Systems Intelligence Office (?)"
      ]
     },
     "execution_count": 17,
     "metadata": {},
     "output_type": "execute_result"
    }
   ],
   "source": [
    "# checking the 'Project Systems Intelligence Office (?)' value by filtering the dataframe\n",
    "Employee[Employee[\"Department\"]== 'Project Systems Intelligence Office (?)']"
   ]
  },
  {
   "cell_type": "markdown",
   "metadata": {},
   "source": [
    "The name of this department is ok but (?) will be removed"
   ]
  },
  {
   "cell_type": "code",
   "execution_count": 18,
   "metadata": {},
   "outputs": [
    {
     "data": {
      "text/html": [
       "<div>\n",
       "<style scoped>\n",
       "    .dataframe tbody tr th:only-of-type {\n",
       "        vertical-align: middle;\n",
       "    }\n",
       "\n",
       "    .dataframe tbody tr th {\n",
       "        vertical-align: top;\n",
       "    }\n",
       "\n",
       "    .dataframe thead th {\n",
       "        text-align: right;\n",
       "    }\n",
       "</style>\n",
       "<table border=\"1\" class=\"dataframe\">\n",
       "  <thead>\n",
       "    <tr style=\"text-align: right;\">\n",
       "      <th></th>\n",
       "      <th>FirstName</th>\n",
       "      <th>LastName</th>\n",
       "      <th>Year</th>\n",
       "      <th>Department</th>\n",
       "    </tr>\n",
       "  </thead>\n",
       "  <tbody>\n",
       "    <tr>\n",
       "      <th>89</th>\n",
       "      <td>Robert</td>\n",
       "      <td>Bizendine</td>\n",
       "      <td>NaN</td>\n",
       "      <td>?</td>\n",
       "    </tr>\n",
       "    <tr>\n",
       "      <th>124</th>\n",
       "      <td>Gabriel</td>\n",
       "      <td>Gonzalez</td>\n",
       "      <td>7</td>\n",
       "      <td>?</td>\n",
       "    </tr>\n",
       "    <tr>\n",
       "      <th>131</th>\n",
       "      <td>Megan</td>\n",
       "      <td>Bell</td>\n",
       "      <td>3</td>\n",
       "      <td>?</td>\n",
       "    </tr>\n",
       "    <tr>\n",
       "      <th>137</th>\n",
       "      <td>Robert</td>\n",
       "      <td>Clayton</td>\n",
       "      <td>7</td>\n",
       "      <td>?</td>\n",
       "    </tr>\n",
       "  </tbody>\n",
       "</table>\n",
       "</div>"
      ],
      "text/plain": [
       "    FirstName   LastName Year Department\n",
       "89     Robert  Bizendine  NaN          ?\n",
       "124   Gabriel   Gonzalez    7          ?\n",
       "131     Megan       Bell    3          ?\n",
       "137    Robert    Clayton    7          ?"
      ]
     },
     "execution_count": 18,
     "metadata": {},
     "output_type": "execute_result"
    }
   ],
   "source": [
    "# checking the ? value by filtering the dataframe\n",
    "Employee[Employee[\"Department\"]== '?']"
   ]
  },
  {
   "cell_type": "code",
   "execution_count": 19,
   "metadata": {},
   "outputs": [
    {
     "data": {
      "text/html": [
       "<div>\n",
       "<style scoped>\n",
       "    .dataframe tbody tr th:only-of-type {\n",
       "        vertical-align: middle;\n",
       "    }\n",
       "\n",
       "    .dataframe tbody tr th {\n",
       "        vertical-align: top;\n",
       "    }\n",
       "\n",
       "    .dataframe thead th {\n",
       "        text-align: right;\n",
       "    }\n",
       "</style>\n",
       "<table border=\"1\" class=\"dataframe\">\n",
       "  <thead>\n",
       "    <tr style=\"text-align: right;\">\n",
       "      <th></th>\n",
       "      <th>FirstName</th>\n",
       "      <th>LastName</th>\n",
       "      <th>Year</th>\n",
       "      <th>Department</th>\n",
       "    </tr>\n",
       "  </thead>\n",
       "  <tbody>\n",
       "    <tr>\n",
       "      <th>40</th>\n",
       "      <td>Gavin</td>\n",
       "      <td>Lambert</td>\n",
       "      <td>1</td>\n",
       "      <td>Municipal Court</td>\n",
       "    </tr>\n",
       "    <tr>\n",
       "      <th>41</th>\n",
       "      <td>Tomas</td>\n",
       "      <td>Salinas</td>\n",
       "      <td>3</td>\n",
       "      <td>Municipal Court</td>\n",
       "    </tr>\n",
       "  </tbody>\n",
       "</table>\n",
       "</div>"
      ],
      "text/plain": [
       "   FirstName LastName Year        Department\n",
       "40     Gavin  Lambert    1  Municipal Court \n",
       "41     Tomas  Salinas    3  Municipal Court "
      ]
     },
     "execution_count": 19,
     "metadata": {},
     "output_type": "execute_result"
    }
   ],
   "source": [
    "# checking \\xa0 value by filtering the dataframe\n",
    "Employee[Employee['Department']== 'Municipal Court\\xa0' ]"
   ]
  },
  {
   "cell_type": "markdown",
   "metadata": {},
   "source": [
    "\\xa0 is actually non-breaking space in Latin1 (ISO 8859-1), also chr(160). You should replace it with a space.<br>\n",
    "[Explanation of \\xa0](https://stackoverflow.com/questions/10993612/how-to-remove-xa0-from-string-in-python#:~:text=%5Cxa0%20is%20actually%20non%2Dbreaking,by%201%20to%204%20bytes.)"
   ]
  },
  {
   "cell_type": "code",
   "execution_count": 20,
   "metadata": {},
   "outputs": [
    {
     "data": {
      "text/html": [
       "<div>\n",
       "<style scoped>\n",
       "    .dataframe tbody tr th:only-of-type {\n",
       "        vertical-align: middle;\n",
       "    }\n",
       "\n",
       "    .dataframe tbody tr th {\n",
       "        vertical-align: top;\n",
       "    }\n",
       "\n",
       "    .dataframe thead th {\n",
       "        text-align: right;\n",
       "    }\n",
       "</style>\n",
       "<table border=\"1\" class=\"dataframe\">\n",
       "  <thead>\n",
       "    <tr style=\"text-align: right;\">\n",
       "      <th></th>\n",
       "      <th>FirstName</th>\n",
       "      <th>LastName</th>\n",
       "      <th>Year</th>\n",
       "      <th>Department</th>\n",
       "    </tr>\n",
       "  </thead>\n",
       "  <tbody>\n",
       "    <tr>\n",
       "      <th>113</th>\n",
       "      <td>Tomas</td>\n",
       "      <td>Salinas</td>\n",
       "      <td>NaN</td>\n",
       "      <td>Municipal Court</td>\n",
       "    </tr>\n",
       "  </tbody>\n",
       "</table>\n",
       "</div>"
      ],
      "text/plain": [
       "    FirstName LastName Year       Department\n",
       "113     Tomas  Salinas  NaN  Municipal Court"
      ]
     },
     "execution_count": 20,
     "metadata": {},
     "output_type": "execute_result"
    }
   ],
   "source": [
    "Employee[Employee['Department']== 'Municipal Court' ]"
   ]
  },
  {
   "cell_type": "markdown",
   "metadata": {},
   "source": [
    "The rows above should be the same department, but there is something wrong. The text \\xa0 will be removed"
   ]
  },
  {
   "cell_type": "markdown",
   "metadata": {},
   "source": [
    "Next, checking the most frequent value in each column. The most frequent value will be replaced with missing values and ? sign"
   ]
  },
  {
   "cell_type": "code",
   "execution_count": 21,
   "metadata": {},
   "outputs": [
    {
     "data": {
      "text/plain": [
       "John          5\n",
       "Tyler         4\n",
       "Gabriel       4\n",
       "Thomas        4\n",
       "Robert        4\n",
       "             ..\n",
       "Kristi        1\n",
       "Brian         1\n",
       "First Name    1\n",
       "Diana         1\n",
       "Diana         1\n",
       "Name: FirstName, Length: 61, dtype: int64"
      ]
     },
     "execution_count": 21,
     "metadata": {},
     "output_type": "execute_result"
    }
   ],
   "source": [
    "Employee['FirstName'].value_counts()"
   ]
  },
  {
   "cell_type": "code",
   "execution_count": 22,
   "metadata": {},
   "outputs": [
    {
     "data": {
      "text/plain": [
       "Montgomery    4\n",
       "?             3\n",
       "Gonzalez      3\n",
       "Johnson       3\n",
       "Lambert       3\n",
       "             ..\n",
       "Long          1\n",
       "Last Name     1\n",
       "Hargrove      1\n",
       "Samilpa       1\n",
       "Myers         1\n",
       "Name: LastName, Length: 64, dtype: int64"
      ]
     },
     "execution_count": 22,
     "metadata": {},
     "output_type": "execute_result"
    }
   ],
   "source": [
    "Employee['LastName'].value_counts()"
   ]
  },
  {
   "cell_type": "code",
   "execution_count": 23,
   "metadata": {},
   "outputs": [
    {
     "data": {
      "text/plain": [
       "4    15\n",
       "2    15\n",
       "3    14\n",
       "7    14\n",
       "5    13\n",
       "6    13\n",
       "9    12\n",
       "8    12\n",
       "1     9\n",
       "?     4\n",
       "Name: Year, dtype: int64"
      ]
     },
     "execution_count": 23,
     "metadata": {},
     "output_type": "execute_result"
    }
   ],
   "source": [
    "Employee['Year'].value_counts()"
   ]
  },
  {
   "cell_type": "code",
   "execution_count": 24,
   "metadata": {},
   "outputs": [
    {
     "data": {
      "text/plain": [
       "HR                                                15\n",
       "IT                                                13\n",
       "Emergency Medical Services                         4\n",
       "Office of the City Auditor                         4\n",
       "Austin Resource Recovery                           4\n",
       "Austin Public Library                              4\n",
       "?                                                  4\n",
       "City Clerks Office                                 3\n",
       "Austin Fire                                        3\n",
       "Office of Performance Management                   2\n",
       "Small & Minority Business Resources                2\n",
       "Economic Development                               2\n",
       "Capital Contracting Office                         2\n",
       "Austin Public Health                               2\n",
       "Municipal Court                                    2\n",
       "Austin Convention Center                           2\n",
       "Office of the Medical Director                     2\n",
       "Treasury Office                                    2\n",
       "Municipal Court Judge                              2\n",
       "Project Systems Intelligence Office (?)            2\n",
       "Fleet Services                                     2\n",
       "Office of CFO                                      2\n",
       "Austin Energy                                      2\n",
       "Development Service Department                     2\n",
       "Downtown Austin Community Court                    2\n",
       "Office of Real Estate Services                     2\n",
       "Austin Code Department                             2\n",
       "Equity Office                                      2\n",
       "Corridor Program Implementation Office             2\n",
       "Intergovernmental Relations                        2\n",
       "LAW Department                                     2\n",
       "Innovation Office                                  2\n",
       "Austin Police Department                           2\n",
       "Purchasing Office                                  2\n",
       "Telecom & Regulatory Affairs                       2\n",
       "Neighborhood Housing and Community Development     2\n",
       "Public Works Department                            2\n",
       "Parks & Recreation Department                      2\n",
       "Budget Office                                      1\n",
       "Human Resources Department                         1\n",
       "Watershed Protection                               1\n",
       "Communications & Technology Management             1\n",
       "Mayor & Council                                    1\n",
       "Labor Relations                                    1\n",
       "Communications & Public Information Office         1\n",
       "Office of Sustainability                           1\n",
       "Homeland Security and Emergency Management         1\n",
       "Controller's Office                                1\n",
       "Austin Water Utility                               1\n",
       "Office of the City Manager                         1\n",
       "Aviation Department                                1\n",
       "Planning and Zoning                                1\n",
       "Building Services                                  1\n",
       "Office of Police Monitor                           1\n",
       "Animal Services Office                             1\n",
       "Department                                         1\n",
       "Municipal Court                                    1\n",
       "Name: Department, dtype: int64"
      ]
     },
     "execution_count": 24,
     "metadata": {},
     "output_type": "execute_result"
    }
   ],
   "source": [
    "Employee['Department'].value_counts()"
   ]
  },
  {
   "cell_type": "markdown",
   "metadata": {},
   "source": [
    "## Cleaning "
   ]
  },
  {
   "cell_type": "markdown",
   "metadata": {},
   "source": [
    "#### Drop rows that have a lot of missing values"
   ]
  },
  {
   "cell_type": "code",
   "execution_count": 25,
   "metadata": {},
   "outputs": [],
   "source": [
    "# remove rows than useless \n",
    "Employee.drop(index=[33,71,105], inplace=True)"
   ]
  },
  {
   "cell_type": "code",
   "execution_count": 26,
   "metadata": {},
   "outputs": [
    {
     "data": {
      "text/plain": [
       "(140, 4)"
      ]
     },
     "execution_count": 26,
     "metadata": {},
     "output_type": "execute_result"
    }
   ],
   "source": [
    "# making sure that only 3 rows removed since we have 143 rows\n",
    "Employee.shape"
   ]
  },
  {
   "cell_type": "markdown",
   "metadata": {},
   "source": [
    "#### Correct wrong values"
   ]
  },
  {
   "cell_type": "code",
   "execution_count": 27,
   "metadata": {},
   "outputs": [],
   "source": [
    "# changing values in the Department column for consistency\n",
    "# the replace function can change more than one value when using a dictionary\n",
    "Employee['Department']= Employee['Department'].replace(\n",
    "    {'Project Systems Intelligence Office (?)':'Project Systems Intelligence Office','Municipal Court\\xa0':'Municipal Court',\n",
    "    'IT ':'IT'})"
   ]
  },
  {
   "cell_type": "markdown",
   "metadata": {},
   "source": [
    "While I was working on **task-5**, the IT department has space after the text 'IT ', that's why I'm changing it here"
   ]
  },
  {
   "cell_type": "code",
   "execution_count": 28,
   "metadata": {},
   "outputs": [
    {
     "data": {
      "text/html": [
       "<div>\n",
       "<style scoped>\n",
       "    .dataframe tbody tr th:only-of-type {\n",
       "        vertical-align: middle;\n",
       "    }\n",
       "\n",
       "    .dataframe tbody tr th {\n",
       "        vertical-align: top;\n",
       "    }\n",
       "\n",
       "    .dataframe thead th {\n",
       "        text-align: right;\n",
       "    }\n",
       "</style>\n",
       "<table border=\"1\" class=\"dataframe\">\n",
       "  <thead>\n",
       "    <tr style=\"text-align: right;\">\n",
       "      <th></th>\n",
       "      <th>FirstName</th>\n",
       "      <th>LastName</th>\n",
       "      <th>Year</th>\n",
       "      <th>Department</th>\n",
       "    </tr>\n",
       "  </thead>\n",
       "  <tbody>\n",
       "  </tbody>\n",
       "</table>\n",
       "</div>"
      ],
      "text/plain": [
       "Empty DataFrame\n",
       "Columns: [FirstName, LastName, Year, Department]\n",
       "Index: []"
      ]
     },
     "execution_count": 28,
     "metadata": {},
     "output_type": "execute_result"
    }
   ],
   "source": [
    "# making sure that the values are changed  \n",
    "Employee[Employee[\"Department\"]== 'Project Systems Intelligence Office (?)']"
   ]
  },
  {
   "cell_type": "code",
   "execution_count": 29,
   "metadata": {},
   "outputs": [
    {
     "data": {
      "text/html": [
       "<div>\n",
       "<style scoped>\n",
       "    .dataframe tbody tr th:only-of-type {\n",
       "        vertical-align: middle;\n",
       "    }\n",
       "\n",
       "    .dataframe tbody tr th {\n",
       "        vertical-align: top;\n",
       "    }\n",
       "\n",
       "    .dataframe thead th {\n",
       "        text-align: right;\n",
       "    }\n",
       "</style>\n",
       "<table border=\"1\" class=\"dataframe\">\n",
       "  <thead>\n",
       "    <tr style=\"text-align: right;\">\n",
       "      <th></th>\n",
       "      <th>FirstName</th>\n",
       "      <th>LastName</th>\n",
       "      <th>Year</th>\n",
       "      <th>Department</th>\n",
       "    </tr>\n",
       "  </thead>\n",
       "  <tbody>\n",
       "    <tr>\n",
       "      <th>57</th>\n",
       "      <td>Gabriel</td>\n",
       "      <td>Gonzalez</td>\n",
       "      <td>6</td>\n",
       "      <td>Project Systems Intelligence Office</td>\n",
       "    </tr>\n",
       "    <tr>\n",
       "      <th>129</th>\n",
       "      <td>Brian</td>\n",
       "      <td>Long</td>\n",
       "      <td>5</td>\n",
       "      <td>Project Systems Intelligence Office</td>\n",
       "    </tr>\n",
       "  </tbody>\n",
       "</table>\n",
       "</div>"
      ],
      "text/plain": [
       "    FirstName  LastName Year                           Department\n",
       "57    Gabriel  Gonzalez    6  Project Systems Intelligence Office\n",
       "129     Brian      Long    5  Project Systems Intelligence Office"
      ]
     },
     "execution_count": 29,
     "metadata": {},
     "output_type": "execute_result"
    }
   ],
   "source": [
    "# making sure that the values are changed \n",
    "Employee[Employee[\"Department\"]== 'Project Systems Intelligence Office']"
   ]
  },
  {
   "cell_type": "code",
   "execution_count": 30,
   "metadata": {},
   "outputs": [
    {
     "data": {
      "text/html": [
       "<div>\n",
       "<style scoped>\n",
       "    .dataframe tbody tr th:only-of-type {\n",
       "        vertical-align: middle;\n",
       "    }\n",
       "\n",
       "    .dataframe tbody tr th {\n",
       "        vertical-align: top;\n",
       "    }\n",
       "\n",
       "    .dataframe thead th {\n",
       "        text-align: right;\n",
       "    }\n",
       "</style>\n",
       "<table border=\"1\" class=\"dataframe\">\n",
       "  <thead>\n",
       "    <tr style=\"text-align: right;\">\n",
       "      <th></th>\n",
       "      <th>FirstName</th>\n",
       "      <th>LastName</th>\n",
       "      <th>Year</th>\n",
       "      <th>Department</th>\n",
       "    </tr>\n",
       "  </thead>\n",
       "  <tbody>\n",
       "  </tbody>\n",
       "</table>\n",
       "</div>"
      ],
      "text/plain": [
       "Empty DataFrame\n",
       "Columns: [FirstName, LastName, Year, Department]\n",
       "Index: []"
      ]
     },
     "execution_count": 30,
     "metadata": {},
     "output_type": "execute_result"
    }
   ],
   "source": [
    "# making sure that the values are changed \n",
    "Employee[Employee['Department']== 'Municipal Court\\xa0']"
   ]
  },
  {
   "cell_type": "code",
   "execution_count": 31,
   "metadata": {},
   "outputs": [
    {
     "data": {
      "text/html": [
       "<div>\n",
       "<style scoped>\n",
       "    .dataframe tbody tr th:only-of-type {\n",
       "        vertical-align: middle;\n",
       "    }\n",
       "\n",
       "    .dataframe tbody tr th {\n",
       "        vertical-align: top;\n",
       "    }\n",
       "\n",
       "    .dataframe thead th {\n",
       "        text-align: right;\n",
       "    }\n",
       "</style>\n",
       "<table border=\"1\" class=\"dataframe\">\n",
       "  <thead>\n",
       "    <tr style=\"text-align: right;\">\n",
       "      <th></th>\n",
       "      <th>FirstName</th>\n",
       "      <th>LastName</th>\n",
       "      <th>Year</th>\n",
       "      <th>Department</th>\n",
       "    </tr>\n",
       "  </thead>\n",
       "  <tbody>\n",
       "    <tr>\n",
       "      <th>40</th>\n",
       "      <td>Gavin</td>\n",
       "      <td>Lambert</td>\n",
       "      <td>1</td>\n",
       "      <td>Municipal Court</td>\n",
       "    </tr>\n",
       "    <tr>\n",
       "      <th>41</th>\n",
       "      <td>Tomas</td>\n",
       "      <td>Salinas</td>\n",
       "      <td>3</td>\n",
       "      <td>Municipal Court</td>\n",
       "    </tr>\n",
       "    <tr>\n",
       "      <th>113</th>\n",
       "      <td>Tomas</td>\n",
       "      <td>Salinas</td>\n",
       "      <td>NaN</td>\n",
       "      <td>Municipal Court</td>\n",
       "    </tr>\n",
       "  </tbody>\n",
       "</table>\n",
       "</div>"
      ],
      "text/plain": [
       "    FirstName LastName Year       Department\n",
       "40      Gavin  Lambert    1  Municipal Court\n",
       "41      Tomas  Salinas    3  Municipal Court\n",
       "113     Tomas  Salinas  NaN  Municipal Court"
      ]
     },
     "execution_count": 31,
     "metadata": {},
     "output_type": "execute_result"
    }
   ],
   "source": [
    "# making sure that the values are changed \n",
    "Employee[Employee['Department']== 'Municipal Court']"
   ]
  },
  {
   "cell_type": "code",
   "execution_count": 32,
   "metadata": {},
   "outputs": [
    {
     "data": {
      "text/plain": [
       "(140, 4)"
      ]
     },
     "execution_count": 32,
     "metadata": {},
     "output_type": "execute_result"
    }
   ],
   "source": [
    "# making sure that the rows are 140\n",
    "Employee.shape"
   ]
  },
  {
   "cell_type": "markdown",
   "metadata": {},
   "source": [
    "#### Filling the missing values 'nan' and '?'\n",
    "Updating the missing values with the most frequent value in each column"
   ]
  },
  {
   "cell_type": "code",
   "execution_count": 33,
   "metadata": {},
   "outputs": [],
   "source": [
    "Employee['FirstName'] = Employee['FirstName'].replace('?','John')"
   ]
  },
  {
   "cell_type": "code",
   "execution_count": 34,
   "metadata": {},
   "outputs": [],
   "source": [
    "Employee['FirstName'] = Employee['FirstName'].fillna('John')"
   ]
  },
  {
   "cell_type": "code",
   "execution_count": 35,
   "metadata": {},
   "outputs": [],
   "source": [
    "Employee['LastName'] = Employee['LastName'].replace('?','Montgomery')"
   ]
  },
  {
   "cell_type": "code",
   "execution_count": 36,
   "metadata": {},
   "outputs": [],
   "source": [
    "Employee['LastName'] = Employee['LastName'].fillna('Montgomery')"
   ]
  },
  {
   "cell_type": "code",
   "execution_count": 37,
   "metadata": {},
   "outputs": [],
   "source": [
    "Employee['Year'] = Employee['Year'].replace('?',2)"
   ]
  },
  {
   "cell_type": "code",
   "execution_count": 38,
   "metadata": {},
   "outputs": [],
   "source": [
    "Employee['Year'] = Employee['Year'].fillna(2)"
   ]
  },
  {
   "cell_type": "code",
   "execution_count": 39,
   "metadata": {},
   "outputs": [],
   "source": [
    "# changing the type of 'Year' column from an object into a numeric \n",
    "Employee['Year'] = pd.to_numeric(Employee['Year'])"
   ]
  },
  {
   "cell_type": "markdown",
   "metadata": {},
   "source": [
    "The column data type should be checked as the first step of any investigation on a file. But I noticed that the `Year` column is an object type while I want to use `mean()` function in **task-5**. This is the reason I'm changing it now. "
   ]
  },
  {
   "cell_type": "code",
   "execution_count": 40,
   "metadata": {},
   "outputs": [],
   "source": [
    "Employee['Department'] = Employee['Department'].replace({'?':'HR','Human Resources Department':'HR'})"
   ]
  },
  {
   "cell_type": "code",
   "execution_count": 41,
   "metadata": {},
   "outputs": [],
   "source": [
    "Employee['Department'] = Employee['Department'].fillna('HR')"
   ]
  },
  {
   "cell_type": "code",
   "execution_count": 42,
   "metadata": {},
   "outputs": [
    {
     "data": {
      "text/plain": [
       "FirstName     0\n",
       "LastName      0\n",
       "Year          0\n",
       "Department    0\n",
       "dtype: int64"
      ]
     },
     "execution_count": 42,
     "metadata": {},
     "output_type": "execute_result"
    }
   ],
   "source": [
    "# making sure that the Employee dataframe has no missing values\n",
    "Employee.isnull().sum()"
   ]
  },
  {
   "cell_type": "code",
   "execution_count": 43,
   "metadata": {},
   "outputs": [
    {
     "data": {
      "text/plain": [
       "(140, 4)"
      ]
     },
     "execution_count": 43,
     "metadata": {},
     "output_type": "execute_result"
    }
   ],
   "source": [
    "# making sure that the rows are 140\n",
    "Employee.shape"
   ]
  },
  {
   "cell_type": "code",
   "execution_count": 44,
   "metadata": {},
   "outputs": [
    {
     "data": {
      "text/plain": [
       "3"
      ]
     },
     "execution_count": 44,
     "metadata": {},
     "output_type": "execute_result"
    }
   ],
   "source": [
    "# Checking if there are any duplicate rows\n",
    "Employee.duplicated().sum()"
   ]
  },
  {
   "cell_type": "code",
   "execution_count": 45,
   "metadata": {},
   "outputs": [],
   "source": [
    "# removing duplicate rows\n",
    "Employee.drop_duplicates(inplace=True)"
   ]
  },
  {
   "cell_type": "code",
   "execution_count": 46,
   "metadata": {},
   "outputs": [
    {
     "data": {
      "text/plain": [
       "(137, 4)"
      ]
     },
     "execution_count": 46,
     "metadata": {},
     "output_type": "execute_result"
    }
   ],
   "source": [
    "# making sure that the rows are 137\n",
    "Employee.shape"
   ]
  },
  {
   "cell_type": "markdown",
   "metadata": {},
   "source": [
    "Employee dataframe now is cleaned"
   ]
  },
  {
   "cell_type": "markdown",
   "metadata": {},
   "source": [
    "<a id='task5'></a>\n",
    "#### Task-5: \n",
    "Find a list of unique names of all employees who work in the HR department . Find the average number of service years of all employees who work in the IT department."
   ]
  },
  {
   "cell_type": "markdown",
   "metadata": {},
   "source": [
    "The answer to the first question"
   ]
  },
  {
   "cell_type": "code",
   "execution_count": 47,
   "metadata": {},
   "outputs": [],
   "source": [
    "# making a filter on HR department called filt\n",
    "filt = Employee['Department'] == 'HR'"
   ]
  },
  {
   "cell_type": "code",
   "execution_count": 48,
   "metadata": {},
   "outputs": [
    {
     "data": {
      "text/plain": [
       "['Joan',\n",
       " 'Shawn',\n",
       " 'John',\n",
       " 'Stefan',\n",
       " 'Sarah',\n",
       " 'Korrie',\n",
       " 'Zachary',\n",
       " 'Perry',\n",
       " 'Kimberly',\n",
       " 'Megan',\n",
       " 'Thomas',\n",
       " 'Diana ',\n",
       " 'Bryce',\n",
       " 'Patricia',\n",
       " 'Robert',\n",
       " 'Ashlee',\n",
       " 'David',\n",
       " 'Gavin',\n",
       " 'Jonathan',\n",
       " 'Farah',\n",
       " 'Gabriel',\n",
       " 'Jesse',\n",
       " 'Diana']"
      ]
     },
     "execution_count": 48,
     "metadata": {},
     "output_type": "execute_result"
    }
   ],
   "source": [
    "'''accessing the filter on 'FirstName' with the help of loc function \n",
    "   and using the unique function to return every unique first names in HR department'''\n",
    "Employee.loc[filt, 'FirstName'].unique().tolist()"
   ]
  },
  {
   "cell_type": "code",
   "execution_count": 49,
   "metadata": {},
   "outputs": [
    {
     "data": {
      "text/plain": [
       "['Hamilton-Huber',\n",
       " 'Lincoln',\n",
       " 'Montgomery',\n",
       " 'Wray',\n",
       " 'Cronin',\n",
       " 'Johnson',\n",
       " 'Ashburn',\n",
       " 'Perez',\n",
       " 'Olivares',\n",
       " 'Nixon',\n",
       " 'Bell',\n",
       " 'Martin',\n",
       " 'Benton',\n",
       " 'Genty-Andrade',\n",
       " 'Bizendine',\n",
       " 'Harris',\n",
       " 'Andersen',\n",
       " 'Lambert',\n",
       " 'Tomko',\n",
       " 'Muscadin',\n",
       " 'Gonzalez',\n",
       " 'Rodriguez',\n",
       " 'Clayton']"
      ]
     },
     "execution_count": 49,
     "metadata": {},
     "output_type": "execute_result"
    }
   ],
   "source": [
    "# another way to filter and use the unique function in one code applied to 'LastName'\n",
    "Employee[Employee['Department']== 'HR'][\"LastName\"].unique().tolist()"
   ]
  },
  {
   "cell_type": "markdown",
   "metadata": {},
   "source": [
    "The answer to the second question"
   ]
  },
  {
   "cell_type": "code",
   "execution_count": 50,
   "metadata": {},
   "outputs": [],
   "source": [
    "# making a filter on HR department called filt2\n",
    "filt2 = Employee['Department'] == 'IT'"
   ]
  },
  {
   "cell_type": "code",
   "execution_count": 51,
   "metadata": {},
   "outputs": [
    {
     "name": "stdout",
     "output_type": "stream",
     "text": [
      "The average number of service years of all employees who work in the IT department: 5.384615384615385\n"
     ]
    }
   ],
   "source": [
    "print('The average number of service years of all employees who work in the IT department:',Employee.loc[filt2, 'Year'].mean())"
   ]
  },
  {
   "cell_type": "markdown",
   "metadata": {},
   "source": [
    "<a id='ref'></a>\n",
    "#### References\n",
    "- Madhavan, S. (2015). Mastering Python for data science explore the world of data science through Python and learn how to make sense of data. Birmingham: Packt Publ.\n",
    "-Schafer, C. (2020). Python Pandas Tutorial. Retrieved February 07, 2021, from https://www.youtube.com/watch?v=ZyhVh-qRZPA&amp;list=PL-osiE80TeTsWmV9i9c58mdDCSskIFdDS&amp;index=1&amp;ab_channel=CoreySchafer \n"
   ]
  }
 ],
 "metadata": {
  "kernelspec": {
   "display_name": "Python 3",
   "language": "python",
   "name": "python3"
  },
  "language_info": {
   "codemirror_mode": {
    "name": "ipython",
    "version": 3
   },
   "file_extension": ".py",
   "mimetype": "text/x-python",
   "name": "python",
   "nbconvert_exporter": "python",
   "pygments_lexer": "ipython3",
   "version": "3.8.5"
  }
 },
 "nbformat": 4,
 "nbformat_minor": 4
}
